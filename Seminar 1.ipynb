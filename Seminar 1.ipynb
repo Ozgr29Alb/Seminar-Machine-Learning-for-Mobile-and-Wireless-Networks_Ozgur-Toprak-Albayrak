{
 "cells": [
  {
   "cell_type": "code",
   "execution_count": null,
   "id": "10455f81",
   "metadata": {},
   "outputs": [],
   "source": [
    "from tensorflow.keras import *\n",
    "from tensorflow.keras.layers import *\n",
    "from generations import *\n",
    "import tensorflow as tf\n",
    "import numpy as np\n",
    "import keras_tuner as kt\n",
    "import matplotlib.pyplot as plt"
   ]
  },
  {
   "cell_type": "code",
   "execution_count": null,
   "id": "6dfc9720",
   "metadata": {},
   "outputs": [],
   "source": [
    "data_test = np.load('channel_test.npy')\n",
    "data_train = np.load('channel_train.npy')\n",
    "data_test.shape\n"
   ]
  },
  {
   "cell_type": "code",
   "execution_count": null,
   "id": "ac542204",
   "metadata": {},
   "outputs": [],
   "source": [
    "def bit_err(y_true, y_pred):\n",
    "    err = 1 - tf.reduce_mean(\n",
    "        tf.reduce_mean(\n",
    "            #tf.to_float(\n",
    "            float(\n",
    "                tf.equal(\n",
    "                    tf.sign(\n",
    "                        y_pred - 0.5),\n",
    "                    tf.cast(\n",
    "                        tf.sign(\n",
    "                            y_true - 0.5),\n",
    "                        tf.float32))),\n",
    "            1))\n",
    "    return err"
   ]
  },
  {
   "cell_type": "code",
   "execution_count": null,
   "id": "66c6a11b",
   "metadata": {},
   "outputs": [],
   "source": [
    "input_bits = Input(shape=(payloadBits_per_OFDM * 2,))"
   ]
  },
  {
   "cell_type": "code",
   "execution_count": null,
   "id": "777a49f0",
   "metadata": {},
   "outputs": [],
   "source": [
    "temp = BatchNormalization()(input_bits)\n",
    "temp = Dense(n_hidden_1, activation='relu')(input_bits)\n",
    "temp = BatchNormalization()(temp)\n",
    "temp = Dense(n_hidden_2, activation='relu')(temp)\n",
    "temp = BatchNormalization()(temp)\n",
    "temp = Dense(n_hidden_3, activation='relu')(temp)\n",
    "temp = BatchNormalization()(temp)\n",
    "out_put = Dense(n_output, activation='sigmoid')(temp)\n",
    "model = Model(input_bits, out_put)\n",
    "model.compile(optimizer='adam', loss='mse', metrics=[bit_err])\n",
    "model.summary()\n",
    "checkpoint = callbacks.ModelCheckpoint('./temp_trained_25.h5', monitor='val_bit_err',\n",
    "                                       verbose=0, save_best_only=True, mode='min', save_weights_only=True)"
   ]
  },
  {
   "cell_type": "code",
   "execution_count": null,
   "id": "ee8269e3",
   "metadata": {},
   "outputs": [],
   "source": [
    "model.fit(\n",
    "    training_gen(500,25), #(1000,25),\n",
    "    steps_per_epoch=20, #50,\n",
    "    epochs=2000, #10000\n",
    "    validation_data=validation_gen(500,25), #(1000,25),\n",
    "    validation_steps=1,\n",
    "    callbacks=[checkpoint],\n",
    "    verbose=2)"
   ]
  },
  {
   "cell_type": "code",
   "execution_count": null,
   "id": "2287b5b0",
   "metadata": {},
   "outputs": [],
   "source": [
    "model.load_weights('./temp_trained_25.h5')"
   ]
  },
  {
   "cell_type": "code",
   "execution_count": null,
   "id": "c1cc9c3a",
   "metadata": {},
   "outputs": [],
   "source": [
    "BER = []\n",
    "for SNR in range(5, 30, 5):\n",
    "    y = model.evaluate(\n",
    "        validation_gen(500, SNR),\n",
    "        steps=1\n",
    "    )\n",
    "    BER.append(y[1])\n",
    "    print(y)\n",
    "print(BER)\n",
    "BER_matlab = np.array(BER)\n",
    "#import scipy.io as sio\n",
    "#sio.savemat('BER.mat', {'BER':BER_matlab})\n",
    "\n",
    "SNR_arr = np.linspace(5,25,5)\n",
    "plt.plot(SNR_arr,BER_matlab)\n",
    "plt.ylabel('BER')\n",
    "plt.xlabel('SNR (dB)')\n",
    "plt.yscale('log')\n",
    "plt.ylim(1e-3,1e0)\n",
    "plt.title('BER vs SNR for OFDM System with DNN Receiver')\n",
    "plt.grid('on')"
   ]
  },
  {
   "cell_type": "code",
   "execution_count": null,
   "id": "866791c5",
   "metadata": {},
   "outputs": [],
   "source": []
  }
 ],
 "metadata": {
  "kernelspec": {
   "display_name": "Python 3",
   "language": "python",
   "name": "python3"
  },
  "language_info": {
   "codemirror_mode": {
    "name": "ipython",
    "version": 3
   },
   "file_extension": ".py",
   "mimetype": "text/x-python",
   "name": "python",
   "nbconvert_exporter": "python",
   "pygments_lexer": "ipython3",
   "version": "3.8.8"
  }
 },
 "nbformat": 4,
 "nbformat_minor": 5
}
