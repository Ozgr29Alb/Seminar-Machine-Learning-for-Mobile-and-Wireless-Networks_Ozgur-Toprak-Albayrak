{
 "cells": [
  {
   "cell_type": "code",
   "execution_count": null,
   "id": "10455f81",
   "metadata": {},
   "outputs": [],
   "source": [
    "from tensorflow.keras import *\n",
    "from tensorflow.keras.layers import *\n",
    "from generations import *\n",
    "import tensorflow as tf\n",
    "import numpy as np\n",
    "import keras_tuner as kt\n",
    "import matplotlib.pyplot as plt"
   ]
  },
  {
   "cell_type": "code",
   "execution_count": null,
   "id": "6dfc9720",
   "metadata": {},
   "outputs": [],
   "source": [
    "data_test = np.load('channel_test.npy')\n",
    "data_train = np.load('channel_train.npy')\n",
    "data_test.shape\n"
   ]
  },
  {
   "cell_type": "code",
   "execution_count": null,
   "id": "ac542204",
   "metadata": {},
   "outputs": [],
   "source": [
    "def bit_err(y_true, y_pred):\n",
    "    err = 1 - tf.reduce_mean(\n",
    "        tf.reduce_mean(\n",
    "            #tf.to_float(\n",
    "            float(\n",
    "                tf.equal(\n",
    "                    tf.sign(\n",
    "                        y_pred - 0.5),\n",
    "                    tf.cast(\n",
    "                        tf.sign(\n",
    "                            y_true - 0.5),\n",
    "                        tf.float32))),\n",
    "            1))\n",
    "    return err"
   ]
  },
  {
   "cell_type": "markdown",
   "id": "3fce6536",
   "metadata": {},
   "source": [
    "# ORIGINAL MODEL"
   ]
  },
  {
   "cell_type": "code",
   "execution_count": null,
   "id": "66c6a11b",
   "metadata": {},
   "outputs": [],
   "source": [
    "input_bits = Input(shape=(payloadBits_per_OFDM * 2,))"
   ]
  },
  {
   "cell_type": "code",
   "execution_count": null,
   "id": "777a49f0",
   "metadata": {},
   "outputs": [],
   "source": [
    "temp = BatchNormalization()(input_bits)\n",
    "temp = Dense(n_hidden_1, activation='relu')(input_bits)\n",
    "temp = BatchNormalization()(temp)\n",
    "temp = Dense(n_hidden_2, activation='relu')(temp)\n",
    "temp = BatchNormalization()(temp)\n",
    "temp = Dense(n_hidden_3, activation='relu')(temp)\n",
    "temp = BatchNormalization()(temp)\n",
    "out_put = Dense(n_output, activation='sigmoid')(temp)\n",
    "model = Model(input_bits, out_put)\n",
    "model.compile(optimizer='adam', loss='mse', metrics=[bit_err])\n",
    "model.summary()\n",
    "checkpoint = callbacks.ModelCheckpoint('./temp_trained_25.h5', monitor='val_bit_err',\n",
    "                                       verbose=0, save_best_only=True, mode='min', save_weights_only=True)"
   ]
  },
  {
   "cell_type": "code",
   "execution_count": null,
   "id": "ee8269e3",
   "metadata": {},
   "outputs": [],
   "source": [
    "model.fit(\n",
    "    training_gen(100,25), #(1000,25),\n",
    "    steps_per_epoch=10, #50,\n",
    "    epochs=500, #10000\n",
    "    validation_data=validation_gen(100,25), #(1000,25),\n",
    "    validation_steps=1,\n",
    "    callbacks=[checkpoint],\n",
    "    verbose=2)"
   ]
  },
  {
   "cell_type": "code",
   "execution_count": null,
   "id": "2287b5b0",
   "metadata": {},
   "outputs": [],
   "source": [
    "model.load_weights('./temp_trained_25.h5')"
   ]
  },
  {
   "cell_type": "code",
   "execution_count": null,
   "id": "c1cc9c3a",
   "metadata": {},
   "outputs": [],
   "source": [
    "BER = []\n",
    "for SNR in range(5, 30, 5):\n",
    "    y = model.evaluate(\n",
    "        validation_gen(1000, SNR),\n",
    "        steps=1\n",
    "    )\n",
    "    BER.append(y[1])\n",
    "    print(y)\n",
    "print(BER)\n",
    "BER_matlab = np.array(BER)\n",
    "#import scipy.io as sio\n",
    "#sio.savemat('BER.mat', {'BER':BER_matlab})\n",
    "\n",
    "SNR_arr = np.linspace(5,25,5)\n",
    "plt.plot(SNR_arr,BER_matlab)\n",
    "plt.ylabel('BER')\n",
    "plt.xlabel('SNR (dB)')\n",
    "plt.yscale('log')\n",
    "plt.ylim(1e-3,1e0)\n",
    "plt.title('BER vs SNR for OFDM System with DNN Receiver')\n",
    "plt.grid('on')"
   ]
  },
  {
   "cell_type": "markdown",
   "id": "e883d073",
   "metadata": {},
   "source": [
    "# HYPERPARAMETER TUNING"
   ]
  },
  {
   "cell_type": "markdown",
   "id": "60eb2f80",
   "metadata": {},
   "source": [
    "## LEARNING RATE (BAYESOPT) "
   ]
  },
  {
   "cell_type": "code",
   "execution_count": null,
   "id": "20f2fa1f",
   "metadata": {},
   "outputs": [],
   "source": [
    "def model_builder_lr(hp):\n",
    "    \n",
    "    input_bits = Input(shape=(payloadBits_per_OFDM * 2,))\n",
    "    temp = BatchNormalization()(input_bits)\n",
    "    temp = Dense(n_hidden_1, activation='relu')(temp) #units = hp.Int(f'units_{1}', min_value=100, max_value=1000,step=100), activation='relu')(temp)\n",
    "    temp = BatchNormalization()(temp)\n",
    "    temp = Dense(n_hidden_2, activation='relu')(temp) #units = hp.Int(f'units_{2}', min_value=100, max_value=500,step=100), activation='relu')(temp)\n",
    "    temp = BatchNormalization()(temp)\n",
    "    temp = Dense(n_hidden_3, activation='relu')(temp) #units = hp.Int(f'units_{3}', min_value=100, max_value=250,step=50), activation='relu')(temp)\n",
    "    temp = BatchNormalization()(temp)\n",
    "    out_put = Dense(n_output, activation='sigmoid')(temp)\n",
    "    model = Model(input_bits, out_put)\n",
    "    hp_learning_rate = hp.Choice('learning_rate', values=list(np.logspace(-4,-2,30)))\n",
    "    \n",
    "    model.compile(optimizer=tf.keras.optimizers.Adam(learning_rate=hp_learning_rate), loss='mse', metrics=[bit_err])\n",
    "    model.summary()\n",
    "    return model\n",
    "\n",
    "\n"
   ]
  },
  {
   "cell_type": "code",
   "execution_count": null,
   "id": "9b7c99f3",
   "metadata": {},
   "outputs": [],
   "source": [
    "# tuner initialization\n",
    "tuner_lr = kt.BayesianOptimization(hypermodel = model_builder_lr,\n",
    "                     objective='val_loss', #factor=3, # factor which you have seen above \n",
    "                     max_trials = 50, project_name='BayesOptim')  #,hyperband_iterations=5, project_name='khyperband') # , project_name='hyperband_tuner')"
   ]
  },
  {
   "cell_type": "code",
   "execution_count": null,
   "id": "8f43a08b",
   "metadata": {
    "scrolled": true
   },
   "outputs": [],
   "source": [
    "tuner_lr.search_space_summary()"
   ]
  },
  {
   "cell_type": "code",
   "execution_count": null,
   "id": "2ac535e3",
   "metadata": {},
   "outputs": [],
   "source": [
    "stop_early = tf.keras.callbacks.EarlyStopping(monitor='val_bit_err', patience=5)\n",
    "# Perform hypertuning\n",
    "tuner_lr.search(training_gen(100,25), epochs=20,steps_per_epoch=10, validation_data=validation_gen(100,25), validation_steps=10,callbacks=[stop_early])\n",
    "best_hp=tuner_lr.get_best_hyperparameters()[0]\n"
   ]
  },
  {
   "cell_type": "code",
   "execution_count": null,
   "id": "00342dc3",
   "metadata": {
    "scrolled": true
   },
   "outputs": [],
   "source": [
    "tuner_lr.results_summary()"
   ]
  },
  {
   "cell_type": "code",
   "execution_count": null,
   "id": "cbce4579",
   "metadata": {},
   "outputs": [],
   "source": [
    "# Build the model with the optimal hyperparameters\n",
    "callback = tf.keras.callbacks.EarlyStopping(monitor='root_mean_squared_error',\n",
    "                                              patience=20)\n",
    "tuned_model = tuner_lr.hypermodel.build(best_hp)\n",
    "#tuned_model.summary()\n",
    "checkpoint = callbacks.ModelCheckpoint('./temp_trained_25.h5', monitor='val_bit_err',\n",
    "                                       verbose=0, save_best_only=True, mode='min', save_weights_only=True)"
   ]
  },
  {
   "cell_type": "code",
   "execution_count": null,
   "id": "d908150c",
   "metadata": {},
   "outputs": [],
   "source": [
    "\"\"\"\n",
    "best_act1 = best_hp.get('activation_1')\n",
    "best_act2 = best_hp.get('activation_2')\n",
    "best_drop_rate = best_hp.get('rate1')\n",
    "best_units1 = best_hp.get('units_1')\n",
    "best_units2 = best_hp.get('units_2')\n",
    "#best_l1 = best_hp.get('l1')\n",
    "#best_l2 = best_hp.get('l2')\n",
    "\n",
    "print ('activation 1: ',best_act1)\n",
    "print ('activation 2: ',best_act2)\n",
    "print('Dropout Rate: ',best_drop_rate)\n",
    "print('Number of units in hidden layer 1: ',best_units1)\n",
    "print('Number of units in hidden layer 2: ',best_units1)\n",
    "#print('l1 Regularization coefficient: ',best_l1)\n",
    "#print('l2 Regularization coefficient: ',best_l2)\n",
    "#print('Learning Rate: ',best_learn_rate)\n",
    "\"\"\"\n",
    "best_learn_rate = best_hp.get('learning_rate')\n",
    "print('Learning Rate: ',best_learn_rate)"
   ]
  },
  {
   "cell_type": "code",
   "execution_count": null,
   "id": "a551b5b3",
   "metadata": {},
   "outputs": [],
   "source": [
    "tuned_model.fit(\n",
    "    training_gen(100,25), #(1000,25),\n",
    "    steps_per_epoch=10, #50,\n",
    "    epochs=500, #10000\n",
    "    validation_data=validation_gen(100,25), #(1000,25),\n",
    "    validation_steps=1,\n",
    "    callbacks=[checkpoint],\n",
    "    verbose=2)"
   ]
  },
  {
   "cell_type": "code",
   "execution_count": null,
   "id": "4956b927",
   "metadata": {},
   "outputs": [],
   "source": [
    "BER = []\n",
    "for SNR in range(5, 30, 5):\n",
    "    y = tuned_model.evaluate(\n",
    "        validation_gen(1000, SNR),\n",
    "        steps=1\n",
    "    )\n",
    "    BER.append(y[1])\n",
    "    print(y)\n",
    "print(BER)\n",
    "BER_matlab = np.array(BER)\n",
    "#import scipy.io as sio\n",
    "#sio.savemat('BER.mat', {'BER':BER_matlab})\n",
    "\n",
    "SNR_arr = np.linspace(5,25,5)\n",
    "plt.plot(SNR_arr,BER_matlab)\n",
    "plt.ylabel('BER')\n",
    "plt.xlabel('SNR (dB)')\n",
    "plt.yscale('log')\n",
    "plt.ylim(1e-3,1e0)\n",
    "plt.title('BER vs SNR for OFDM System with DNN Receiver')\n",
    "plt.grid('on')"
   ]
  },
  {
   "cell_type": "code",
   "execution_count": null,
   "id": "7b05a1a8",
   "metadata": {},
   "outputs": [],
   "source": []
  },
  {
   "cell_type": "code",
   "execution_count": null,
   "id": "a37320ac",
   "metadata": {},
   "outputs": [],
   "source": []
  },
  {
   "cell_type": "code",
   "execution_count": null,
   "id": "d9cff0a1",
   "metadata": {},
   "outputs": [],
   "source": []
  },
  {
   "cell_type": "code",
   "execution_count": null,
   "id": "10556459",
   "metadata": {},
   "outputs": [],
   "source": []
  },
  {
   "cell_type": "code",
   "execution_count": null,
   "id": "ceae2b74",
   "metadata": {},
   "outputs": [],
   "source": []
  },
  {
   "cell_type": "markdown",
   "id": "12f2d947",
   "metadata": {},
   "source": [
    "## HIDDEN LAYERS  1)Random Search   2)Bayesopt"
   ]
  },
  {
   "cell_type": "code",
   "execution_count": null,
   "id": "0412e0d6",
   "metadata": {},
   "outputs": [],
   "source": [
    "def model_builder_hl_r(hp):\n",
    "    input_bits = Input(shape=(payloadBits_per_OFDM * 2,))\n",
    "    temp = BatchNormalization()(input_bits)\n",
    "    temp = Dense(units = hp.Int(f'units_{1}', min_value=300, max_value=1500,step=150), activation='relu')(temp) #,kernel_regularizer=tf.keras.regularizers.L2(l2=0.0001))(temp)\n",
    "    temp = BatchNormalization()(temp)\n",
    "    temp = Dense(units = hp.Int(f'units_{2}', min_value=300, max_value=900,step=150), activation='relu')(temp) #,kernel_regularizer=tf.keras.regularizers.L2(l2=0.0001))(temp)\n",
    "    temp = BatchNormalization()(temp)\n",
    "    temp = Dense(units = hp.Int(f'units_{3}', min_value=150, max_value=300,step=50), activation='relu')(temp) #,kernel_regularizer=tf.keras.regularizers.L2(l2=0.0001))(temp)\n",
    "    temp = BatchNormalization()(temp)\n",
    "    out_put = Dense(n_output, activation='sigmoid')(temp)\n",
    "    model = Model(input_bits, out_put)\n",
    "    model.compile(optimizer=tf.keras.optimizers.Adam(learning_rate=0.007279), loss='mse', metrics=[bit_err])\n",
    "    model.summary()\n",
    "    return model"
   ]
  },
  {
   "cell_type": "code",
   "execution_count": null,
   "id": "4a43bd74",
   "metadata": {
    "scrolled": true
   },
   "outputs": [],
   "source": [
    "# tuner initialization\n",
    "tuner_hidden_r = kt.RandomSearch(hypermodel = model_builder_hl_r,\n",
    "                     objective=kt.Objective(\"val_bit_err\", direction=\"min\"), #factor=3, # factor which you have seen above \n",
    "                     max_trials = 50, project_name='HiddenLayerRandom')  #,hyperband_iterations=5, project_name='khyperband') # , project_name='hyperband_tuner')"
   ]
  },
  {
   "cell_type": "code",
   "execution_count": null,
   "id": "fb37dc1e",
   "metadata": {
    "scrolled": true
   },
   "outputs": [],
   "source": [
    "tuner_hidden_r.search_space_summary()"
   ]
  },
  {
   "cell_type": "code",
   "execution_count": null,
   "id": "91bd411c",
   "metadata": {},
   "outputs": [],
   "source": [
    "stop_early = tf.keras.callbacks.EarlyStopping(monitor='val_bit_err', patience=5)\n",
    "# Perform hypertuning\n",
    "tuner_hidden_r.search(training_gen(100,25), epochs=40,steps_per_epoch=10, validation_data=validation_gen(100,25), validation_steps=10,callbacks=[stop_early])\n",
    "best_hp=tuner_hidden_r.get_best_hyperparameters()[0]\n"
   ]
  },
  {
   "cell_type": "code",
   "execution_count": null,
   "id": "14bbc19e",
   "metadata": {
    "scrolled": true
   },
   "outputs": [],
   "source": [
    "tuner_hidden_r.results_summary()"
   ]
  },
  {
   "cell_type": "code",
   "execution_count": null,
   "id": "b85f9065",
   "metadata": {},
   "outputs": [],
   "source": [
    "best_units1 = best_hp.get('units_1')\n",
    "best_units2 = best_hp.get('units_2')\n",
    "best_units3 = best_hp.get('units_3')\n",
    "#best_l1 = best_hp.get('l1')\n",
    "#best_l2 = best_hp.get('l2')\n",
    "\n",
    "#print ('activation 1: ',best_act1)\n",
    "#print ('activation 2: ',best_act2)\n",
    "#print('Dropout Rate: ',best_drop_rate)\n",
    "print('Number of units in hidden layer 1: ',best_units1)\n",
    "print('Number of units in hidden layer 2: ',best_units2)\n",
    "print('Number of units in hidden layer 3: ',best_units3)"
   ]
  },
  {
   "cell_type": "code",
   "execution_count": null,
   "id": "ee2b7af0",
   "metadata": {},
   "outputs": [],
   "source": [
    "# Build the model with the optimal hyperparameters\n",
    "callback = tf.keras.callbacks.EarlyStopping(monitor='root_mean_squared_error',\n",
    "                                              patience=20)\n",
    "tuned_model_hidden_random = tuner_hidden_r.hypermodel.build(best_hp)\n",
    "checkpoint = callbacks.ModelCheckpoint('./temp_trained_25.h5', monitor='val_bit_err',\n",
    "                                       verbose=0, save_best_only=True, mode='min', save_weights_only=True)"
   ]
  },
  {
   "cell_type": "code",
   "execution_count": null,
   "id": "c2c500cb",
   "metadata": {},
   "outputs": [],
   "source": [
    "tuned_model_hidden_random.fit(\n",
    "    training_gen(500,25), #(1000,25),\n",
    "    steps_per_epoch=10, #50,\n",
    "    epochs=500, #10000\n",
    "    validation_data=validation_gen(500,25), #(1000,25),\n",
    "    validation_steps=1,\n",
    "    callbacks=[checkpoint],\n",
    "    verbose=2)"
   ]
  },
  {
   "cell_type": "code",
   "execution_count": null,
   "id": "0c84cb68",
   "metadata": {},
   "outputs": [],
   "source": [
    "BER = []\n",
    "for SNR in range(5, 30, 5):\n",
    "    y = tuned_model_hidden_random.evaluate(\n",
    "        validation_gen(1000, SNR),\n",
    "        steps=1\n",
    "    )\n",
    "    BER.append(y[1])\n",
    "    print(y)\n",
    "print(BER)\n",
    "BER_matlab = np.array(BER)\n",
    "#import scipy.io as sio\n",
    "#sio.savemat('BER.mat', {'BER':BER_matlab})\n",
    "\n",
    "SNR_arr = np.linspace(5,25,5)\n",
    "plt.plot(SNR_arr,BER_matlab)\n",
    "plt.ylabel('BER')\n",
    "plt.xlabel('SNR (dB)')\n",
    "plt.yscale('log')\n",
    "plt.ylim(1e-3,1e0)\n",
    "plt.title('BER vs SNR for OFDM System with DNN Receiver')\n",
    "plt.grid('on')"
   ]
  },
  {
   "cell_type": "code",
   "execution_count": null,
   "id": "ed8ec9bb",
   "metadata": {},
   "outputs": [],
   "source": []
  },
  {
   "cell_type": "code",
   "execution_count": null,
   "id": "43498cf9",
   "metadata": {},
   "outputs": [],
   "source": []
  },
  {
   "cell_type": "code",
   "execution_count": null,
   "id": "af8890e8",
   "metadata": {},
   "outputs": [],
   "source": []
  },
  {
   "cell_type": "code",
   "execution_count": null,
   "id": "81bbb0b2",
   "metadata": {},
   "outputs": [],
   "source": []
  },
  {
   "cell_type": "markdown",
   "id": "a5289b10",
   "metadata": {},
   "source": [
    "##  ACTIVATION FUNC"
   ]
  },
  {
   "cell_type": "code",
   "execution_count": null,
   "id": "1b727fee",
   "metadata": {},
   "outputs": [],
   "source": [
    "def model_builder_act_func(hp):\n",
    "    input_bits = Input(shape=(payloadBits_per_OFDM * 2,))\n",
    "    temp = BatchNormalization()(input_bits)\n",
    "    temp = Dense(units = 1050, activation=hp.Choice('activation_1', values=['selu','elu','relu','mish','tanh']))(temp) #,kernel_regularizer=tf.keras.regularizers.L2(l2=0.0001))(temp)\n",
    "    temp = BatchNormalization()(temp)\n",
    "    temp = Dense(units = 600, activation=hp.Choice('activation_2', values=['selu','elu','relu','mish','tanh']))(temp) #,kernel_regularizer=tf.keras.regularizers.L2(l2=0.0001))(temp)\n",
    "    temp = BatchNormalization()(temp)\n",
    "    temp = Dense(units = 200, activation=hp.Choice('activation_3', values=['selu','elu','relu','mish','tanh']))(temp) #,kernel_regularizer=tf.keras.regularizers.L2(l2=0.0001))(temp)\n",
    "    temp = BatchNormalization()(temp)\n",
    "    out_put = Dense(n_output, activation='sigmoid')(temp)\n",
    "    model = Model(input_bits, out_put)\n",
    "    model.compile(optimizer=tf.keras.optimizers.Adam(), #learning_rate=0.007279), \n",
    "                  loss='mse', metrics=[bit_err])\n",
    "    model.summary()\n",
    "    return model"
   ]
  },
  {
   "cell_type": "code",
   "execution_count": null,
   "id": "b9113a49",
   "metadata": {},
   "outputs": [],
   "source": [
    "# tuner initialization\n",
    "tuner_activ = kt.BayesianOptimization(hypermodel = model_builder_act_func,\n",
    "                     objective=kt.Objective(\"val_bit_err\", direction=\"min\"), #factor=3, # factor which you have seen above \n",
    "                     max_trials = 50, project_name='ActivationFunc')  #,hyperband_iterations=5, project_name='khyperband') # , project_name='hyperband_tuner')"
   ]
  },
  {
   "cell_type": "code",
   "execution_count": null,
   "id": "66291653",
   "metadata": {},
   "outputs": [],
   "source": [
    "tuner_activ.search_space_summary()"
   ]
  },
  {
   "cell_type": "code",
   "execution_count": null,
   "id": "04fe4b01",
   "metadata": {},
   "outputs": [],
   "source": [
    "stop_early = tf.keras.callbacks.EarlyStopping(monitor='val_bit_err', patience=5)\n",
    "# Perform hypertuning\n",
    "tuner_activ.search(training_gen(200,25), epochs=40,steps_per_epoch=10, validation_data=validation_gen(200,25), validation_steps=10,callbacks=[stop_early])\n",
    "best_hp=tuner_activ.get_best_hyperparameters()[0]\n"
   ]
  },
  {
   "cell_type": "code",
   "execution_count": null,
   "id": "73f7a0f2",
   "metadata": {},
   "outputs": [],
   "source": [
    "tuner_activ.results_summary()"
   ]
  },
  {
   "cell_type": "code",
   "execution_count": null,
   "id": "91ba412b",
   "metadata": {},
   "outputs": [],
   "source": [
    "# Build the model with the optimal hyperparameters\n",
    "callback = tf.keras.callbacks.EarlyStopping(monitor='root_mean_squared_error',\n",
    "                                              patience=20)\n",
    "tuned_model_activ_bayes = tuner_activ.hypermodel.build(best_hp)\n",
    "checkpoint = callbacks.ModelCheckpoint('./temp_trained_25.h5', monitor='val_bit_err',\n",
    "                                       verbose=0, save_best_only=True, mode='min', save_weights_only=True)"
   ]
  },
  {
   "cell_type": "code",
   "execution_count": null,
   "id": "14768ed0",
   "metadata": {},
   "outputs": [],
   "source": [
    "best_act1 = best_hp.get('activation_1')\n",
    "best_act2 = best_hp.get('activation_2')\n",
    "best_act3 = best_hp.get('activation_3')\n",
    "\n",
    "print ('activation 1: ',best_act1)\n",
    "print ('activation 2: ',best_act2)\n",
    "print ('activation 2: ',best_act3)"
   ]
  },
  {
   "cell_type": "code",
   "execution_count": null,
   "id": "1d4d05fb",
   "metadata": {},
   "outputs": [],
   "source": [
    "tuned_model_activ_bayes.fit(\n",
    "    training_gen(100,25), #(1000,25),\n",
    "    steps_per_epoch=10, #50,\n",
    "    epochs=300, #10000\n",
    "    validation_data=validation_gen(100,25), #(1000,25),\n",
    "    validation_steps=1,\n",
    "    callbacks=[checkpoint],\n",
    "    verbose=2)"
   ]
  },
  {
   "cell_type": "code",
   "execution_count": null,
   "id": "7a216477",
   "metadata": {
    "scrolled": true
   },
   "outputs": [],
   "source": [
    "BER = []\n",
    "for SNR in range(5, 30, 5):\n",
    "    y = tuned_model_activ_bayes.evaluate(\n",
    "        validation_gen(1000, SNR),\n",
    "        steps=1\n",
    "    )\n",
    "    BER.append(y[1])\n",
    "    print(y)\n",
    "print(BER)\n",
    "BER_matlab = np.array(BER)\n",
    "#import scipy.io as sio\n",
    "#sio.savemat('BER.mat', {'BER':BER_matlab})\n",
    "\n",
    "SNR_arr = np.linspace(5,25,5)\n",
    "plt.plot(SNR_arr,BER_matlab)\n",
    "plt.ylabel('BER')\n",
    "plt.xlabel('SNR (dB)')\n",
    "plt.yscale('log')\n",
    "plt.ylim(1e-3,1e0)\n",
    "plt.title('BER vs SNR for OFDM System with DNN Receiver')\n",
    "plt.grid('on')"
   ]
  },
  {
   "cell_type": "code",
   "execution_count": null,
   "id": "f41267ea",
   "metadata": {},
   "outputs": [],
   "source": []
  },
  {
   "cell_type": "code",
   "execution_count": null,
   "id": "1db119f4",
   "metadata": {},
   "outputs": [],
   "source": []
  },
  {
   "cell_type": "code",
   "execution_count": null,
   "id": "0d8e5d87",
   "metadata": {},
   "outputs": [],
   "source": []
  },
  {
   "cell_type": "code",
   "execution_count": null,
   "id": "126e354c",
   "metadata": {},
   "outputs": [],
   "source": []
  },
  {
   "cell_type": "markdown",
   "id": "03b8302b",
   "metadata": {},
   "source": [
    "##  FINAL MODEL"
   ]
  },
  {
   "cell_type": "code",
   "execution_count": null,
   "id": "46127b88",
   "metadata": {},
   "outputs": [],
   "source": [
    "def model_builder_final():\n",
    "    input_bits = Input(shape=(payloadBits_per_OFDM * 2,))\n",
    "    temp = BatchNormalization()(input_bits)\n",
    "    temp = Dense(units = 1050, activation='tanh')(temp) #,kernel_regularizer=tf.keras.regularizers.L2(l2=0.0001))(temp)\n",
    "    temp = BatchNormalization()(temp)\n",
    "    temp = Dense(units = 600, activation='mish')(temp) #,kernel_regularizer=tf.keras.regularizers.L2(l2=0.0001))(temp)\n",
    "    temp = BatchNormalization()(temp)\n",
    "    temp = Dense(units = 200, activation='mish')(temp) #,kernel_regularizer=tf.keras.regularizers.L2(l2=0.0001))(temp)\n",
    "    temp = BatchNormalization()(temp)\n",
    "    out_put = Dense(n_output, activation='sigmoid')(temp)\n",
    "    model = Model(input_bits, out_put)\n",
    "    model.compile(optimizer=tf.keras.optimizers.Adam(), #learning_rate=0.007279), \n",
    "                  loss='mse', metrics=[bit_err])\n",
    "    model.summary()\n",
    "    return model"
   ]
  },
  {
   "cell_type": "code",
   "execution_count": null,
   "id": "8fce6965",
   "metadata": {},
   "outputs": [],
   "source": [
    "final_model = model_builder_final()"
   ]
  },
  {
   "cell_type": "code",
   "execution_count": null,
   "id": "8bade219",
   "metadata": {},
   "outputs": [],
   "source": [
    "checkpoint = callbacks.ModelCheckpoint('./temp_trained_25.h5', monitor='val_bit_err',\n",
    "                                       verbose=0, save_best_only=True, mode='min', save_weights_only=True)"
   ]
  },
  {
   "cell_type": "code",
   "execution_count": null,
   "id": "27979afe",
   "metadata": {},
   "outputs": [],
   "source": [
    "final_model.fit(\n",
    "    training_gen(500,25), #(1000,25),\n",
    "    steps_per_epoch=10, #50,\n",
    "    epochs=2000, #10000\n",
    "    validation_data=validation_gen(500,25), #(1000,25),\n",
    "    validation_steps=1,\n",
    "    callbacks=[checkpoint],\n",
    "    verbose=2)"
   ]
  },
  {
   "cell_type": "code",
   "execution_count": null,
   "id": "29983934",
   "metadata": {},
   "outputs": [],
   "source": [
    "BER = []\n",
    "for SNR in range(5, 30, 5):\n",
    "    y = final_model.evaluate(\n",
    "        validation_gen(2000, SNR),\n",
    "        steps=1\n",
    "    )\n",
    "    BER.append(y[1])\n",
    "    print(y)\n",
    "print(BER)\n",
    "BER_matlab = np.array(BER)\n",
    "#import scipy.io as sio\n",
    "#sio.savemat('BER.mat', {'BER':BER_matlab})\n",
    "\n",
    "SNR_arr = np.linspace(5,25,5)\n",
    "plt.plot(SNR_arr,BER_matlab)\n",
    "plt.ylabel('BER')\n",
    "plt.xlabel('SNR (dB)')\n",
    "plt.yscale('log')\n",
    "plt.ylim(1e-3,1e0)\n",
    "plt.title('BER vs SNR for OFDM System with DNN Receiver')\n",
    "plt.grid('on')"
   ]
  },
  {
   "cell_type": "code",
   "execution_count": null,
   "id": "b0f4ed70",
   "metadata": {},
   "outputs": [],
   "source": []
  }
 ],
 "metadata": {
  "kernelspec": {
   "display_name": "Python 3",
   "language": "python",
   "name": "python3"
  },
  "language_info": {
   "codemirror_mode": {
    "name": "ipython",
    "version": 3
   },
   "file_extension": ".py",
   "mimetype": "text/x-python",
   "name": "python",
   "nbconvert_exporter": "python",
   "pygments_lexer": "ipython3",
   "version": "3.8.8"
  }
 },
 "nbformat": 4,
 "nbformat_minor": 5
}
